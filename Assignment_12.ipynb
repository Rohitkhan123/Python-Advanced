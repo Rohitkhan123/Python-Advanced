{
  "nbformat": 4,
  "nbformat_minor": 0,
  "metadata": {
    "colab": {
      "provenance": []
    },
    "kernelspec": {
      "name": "python3",
      "display_name": "Python 3"
    },
    "language_info": {
      "name": "python"
    }
  },
  "cells": [
    {
      "cell_type": "code",
      "source": [
        "# Q1. Does assigning a value to a string's indexed character violate Python's string immutability ?\n",
        "\n",
        "'''Ans: String's indexed character cannot to be assigned a New value , as Strings are immutable.\n",
        "Example:\n",
        "name = \"Reinforcement\"\n",
        "print(id(name)) #73472\n",
        "name[0] = \"V\" # Raises TypeError'''"
      ],
      "metadata": {
        "id": "Vk2pR4imZDfv"
      },
      "execution_count": null,
      "outputs": []
    },
    {
      "cell_type": "code",
      "source": [
        "# Q2. Does using the += operator to concatenate strings violate Python's string immutability? Why or why not ?\n",
        "\n",
        "'''Ans: += operator is used to concatenate strings, it does not violate Python's string immutability Property. \n",
        "Because doing so new creates a new association with data and variable. \n",
        "E.g. str_1=\"a\" and str_1+=\"b. effect of this statements to create string ab and reassign it to variable str_1, any string data is not actually modified.'''\n",
        "\n",
        "str_1 = 'a'\n",
        "print(id(str_1))\n",
        "str_1 += 'b'\n",
        "print(id(str_1)) # Does not Modify existing string, Creates a New String Object"
      ],
      "metadata": {
        "colab": {
          "base_uri": "https://localhost:8080/"
        },
        "id": "Qy_b_h-uZDkm",
        "outputId": "8ec96fc9-2d26-407c-af8a-befcfdd28315"
      },
      "execution_count": 30,
      "outputs": [
        {
          "output_type": "stream",
          "name": "stdout",
          "text": [
            "140546063662576\n",
            "140545644195184\n"
          ]
        }
      ]
    },
    {
      "cell_type": "code",
      "source": [
        "# Q3. In Python, how many different ways are there to index a character?\n",
        "\n",
        "'''Ans: A Character in string can be indexed using string name followed by index number of character in square bracket.\n",
        "Positive Indexing i.e. first index is 0 an so on, or Negative Indexing i.e. last letter is -1 and so on can be used to index a character'''\n",
        "\n",
        "in_string = \"iNeuron Full Stack Data Science\"\n",
        "print(in_string[9],in_string[10],in_string[2]) # Positive Indexing\n",
        "print(in_string[-1],in_string[-5],in_string[-2]) # Negative Indexing"
      ],
      "metadata": {
        "colab": {
          "base_uri": "https://localhost:8080/"
        },
        "id": "pV44HUnLZDn3",
        "outputId": "8cf4bc3b-68e6-4317-ad7a-e20e214a57e5"
      },
      "execution_count": 31,
      "outputs": [
        {
          "output_type": "stream",
          "name": "stdout",
          "text": [
            "u l e\n",
            "e i c\n"
          ]
        }
      ]
    },
    {
      "cell_type": "code",
      "source": [
        "# Q4. What is the relationship between indexing and slicing?\n",
        "\n",
        "''' Ans: We can access elements of sequence datatypes by using slicing and indexing. \n",
        "Indexing is used to obtaining individual element while slicing for sequence of elements.'''\n",
        "in_string = \"iNeuron Full Stack Data Science\"\n",
        "print(in_string[1],in_string[3],in_string[5]) # Indexing\n",
        "print(in_string[1:15]) # Slicing"
      ],
      "metadata": {
        "colab": {
          "base_uri": "https://localhost:8080/"
        },
        "id": "3xglwLkvZDrT",
        "outputId": "64cf91cb-ea9b-4776-b1dd-8d1a751dd7ae"
      },
      "execution_count": 32,
      "outputs": [
        {
          "output_type": "stream",
          "name": "stdout",
          "text": [
            "N u o\n",
            "Neuron Full St\n"
          ]
        }
      ]
    },
    {
      "cell_type": "code",
      "source": [
        "# Q5. What is an indexed character's exact data type? What is the data form of a slicing-generated substring?\n",
        "\n",
        "'''Ans: Indexed characters and sliced substrings have datatype String.'''\n",
        "\n",
        "in_string = \"iNeuron Full Stack Data Science\"\n",
        "print(type(in_string[3])) # Indexing -> str\n",
        "print(type(in_string[1:10])) # Indexing -> str"
      ],
      "metadata": {
        "colab": {
          "base_uri": "https://localhost:8080/"
        },
        "id": "i8MyjTQoZDwa",
        "outputId": "846907f3-a1ef-4a83-a860-60c8d59b3b97"
      },
      "execution_count": 33,
      "outputs": [
        {
          "output_type": "stream",
          "name": "stdout",
          "text": [
            "<class 'str'>\n",
            "<class 'str'>\n"
          ]
        }
      ]
    },
    {
      "cell_type": "code",
      "source": [
        "# Q6. What is the relationship between string and character \"types\" in Python?\n",
        "\n",
        "'''Ans: Object that contains sequence of character datatypes are called String.'''"
      ],
      "metadata": {
        "id": "DsIUq0GNasZw"
      },
      "execution_count": null,
      "outputs": []
    },
    {
      "cell_type": "code",
      "source": [
        "# Q7. Identify at least two operators & one method that allow you to combine one or \n",
        "# more smaller strings to create a larger string ?\n",
        "\n",
        "'''Ans: +, += and * allow to combine one or more smaller strings to create a larger string. \n",
        "<string>.join(<sep>) method joins element of iterable type like list and tuple to get a combined string.'''\n",
        "\n",
        "in_string = 'iNeuron '\n",
        "in_string += 'Full Stack Data Science'\n",
        "print(in_string + ' FSDS')\n",
        "print('FSDS '*3)\n",
        "print(\" \".join(['I','N','E','U','R','O','N'])) # List Iterable\n",
        "print(\" \".join(('I','N','E','U','R','O','N')).lower()) # Tuple Iterable"
      ],
      "metadata": {
        "colab": {
          "base_uri": "https://localhost:8080/"
        },
        "id": "bM0Jo8JWasW-",
        "outputId": "669e0cc4-1078-4cf0-8948-da8030dd4a28"
      },
      "execution_count": 34,
      "outputs": [
        {
          "output_type": "stream",
          "name": "stdout",
          "text": [
            "iNeuron Full Stack Data Science FSDS\n",
            "FSDS FSDS FSDS \n",
            "I N E U R O N\n",
            "i n e u r o n\n"
          ]
        }
      ]
    },
    {
      "cell_type": "code",
      "source": [
        "# Q8. What is the benefit of first checking the target string with in or not in before using the index method to find a substring ?\n",
        "\n",
        "'''Ans: Checking the target string with in or not Operators before using the index method to find a substring \n",
        "just helps confirming availability of substring and thus avoid raising of ValueError.\n",
        "\n",
        "Example:\n",
        "in_string = \"ineuron\"\n",
        "in_string.index('x') # Raises ValueError\n",
        "in_string.index('u') # 3'''"
      ],
      "metadata": {
        "id": "1TFLVtEaasRU"
      },
      "execution_count": null,
      "outputs": []
    },
    {
      "cell_type": "code",
      "source": [
        "# Q9. Which operators and built-in string methods produce simple Boolean (true/false) results?\n",
        "\n",
        "'''Ans: The String Operators and built-in methods to Produce Simple Boolean (True/False) Results are:\n",
        "\n",
        "-- in\n",
        "-- not\n",
        "-- <string>.isalpha()\n",
        "-- <string>.isalnum()\n",
        "-- <string>.isdecimal()\n",
        "-- <string>.isdigit()\n",
        "-- <string>.islower()\n",
        "-- <string>.isnumeric()\n",
        "-- <string>.isprintable()\n",
        "-- <string>.isspace()\n",
        "-- <string>.istitle()'''"
      ],
      "metadata": {
        "id": "4Ml46AiIbnD4"
      },
      "execution_count": null,
      "outputs": []
    }
  ]
}