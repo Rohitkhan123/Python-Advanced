{
  "nbformat": 4,
  "nbformat_minor": 0,
  "metadata": {
    "colab": {
      "provenance": []
    },
    "kernelspec": {
      "name": "python3",
      "display_name": "Python 3"
    },
    "language_info": {
      "name": "python"
    }
  },
  "cells": [
    {
      "cell_type": "code",
      "source": [
        "# Q1. What is the concept of a metaclass?\n",
        "\n",
        "'''Ans: Metaclass in Python is a class of a class that defines how a class behaves. A class is itself a instance of Metaclass,and any Instance of Class in Python is an Instance of type metaclass.\n",
        "E.g. Type of of int, str, float, list, tuple and many more is of metaclass type.'''\n"
      ],
      "metadata": {
        "id": "MmktaTnVV8gS"
      },
      "execution_count": null,
      "outputs": []
    },
    {
      "cell_type": "code",
      "source": [
        "# Q2. What is the best way to declare a class's metaclass?\n",
        "\n",
        "'''Ans: A way to declare a class’ metaclass is by using metaclass keyword in class definition.'''\n",
        "\n",
        "class meta(type):\n",
        "    pass\n",
        "class class_meta(metaclass=meta):\n",
        "    pass\n",
        "print(type(meta))\n",
        "print(type(class_meta))"
      ],
      "metadata": {
        "colab": {
          "base_uri": "https://localhost:8080/"
        },
        "id": "S5oyI4kPV8kp",
        "outputId": "a8b31eed-ae34-461c-c7fe-99d58b3bf65e"
      },
      "execution_count": 29,
      "outputs": [
        {
          "output_type": "stream",
          "name": "stdout",
          "text": [
            "<class 'type'>\n",
            "<class '__main__.meta'>\n"
          ]
        }
      ]
    },
    {
      "cell_type": "code",
      "source": [
        "# Q3. How do class decorators overlap with metaclasses for handling classes ?\n",
        "\n",
        "'''Ans: Anything you can do with a class decorator, you can of course do with a custom metaclasses (just apply the functionality of the \"decorator function\",\n",
        "i.e., the one that takes a class object and modifies it, in the course of the metaclass's __new__ or __init__ that make the class object!).'''"
      ],
      "metadata": {
        "id": "pJ6Fdx-7V8ot"
      },
      "execution_count": null,
      "outputs": []
    },
    {
      "cell_type": "code",
      "source": [
        "# Q4. How do class decorators overlap with metaclasses for handling instances?\n",
        "\n",
        "'''Ans: Anything you can do with a class decorator, you can of course do with a custom metaclass (just apply the functionality of the \"decorator function\", \n",
        "i.e., the one that takes a class object and modifies it, in the course of the metaclass's __new__ or __init__ that make the class object!).'''"
      ],
      "metadata": {
        "id": "z4QbfExLWjur"
      },
      "execution_count": null,
      "outputs": []
    }
  ]
}