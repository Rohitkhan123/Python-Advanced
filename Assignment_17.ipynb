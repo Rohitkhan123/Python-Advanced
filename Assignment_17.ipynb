{
  "nbformat": 4,
  "nbformat_minor": 0,
  "metadata": {
    "colab": {
      "provenance": []
    },
    "kernelspec": {
      "name": "python3",
      "display_name": "Python 3"
    },
    "language_info": {
      "name": "python"
    }
  },
  "cells": [
    {
      "cell_type": "code",
      "source": [
        "# Q1. Explain the difference between greedy and non-greedy syntax with visual terms in as few words\n",
        "# as possible. What is the bare minimum effort required to transform a greedy pattern into a non-greedy\n",
        "# one? What characters or characters can you introduce or change?\n",
        "\n",
        "'''Ans: The Main difference between Greedy and Non Greedy Match Syntax is The Greedy Match will try to match as many repetitions of the\n",
        "quantified pattern as possible Whereas The Non Greedy Match will try to match as few repetitions of the quantified pattern as possible'''\n",
        "\n",
        "import re\n",
        "print(re.findall(\"v*\", \"vvvvvv\")) # Greedy Match Synatx\n",
        "print(re.findall(\"v*?\", \"vvvvvv\")) # Non Greddy Syntax"
      ],
      "metadata": {
        "colab": {
          "base_uri": "https://localhost:8080/"
        },
        "id": "U-S_x0KwtgMH",
        "outputId": "e7922c6c-e9dd-4989-a626-ad3157776572"
      },
      "execution_count": 53,
      "outputs": [
        {
          "output_type": "stream",
          "name": "stdout",
          "text": [
            "['vvvvvv', '']\n",
            "['', 'v', '', 'v', '', 'v', '', 'v', '', 'v', '', 'v', '']\n"
          ]
        }
      ]
    },
    {
      "cell_type": "code",
      "source": [
        "# Q2. When exactly does greedy versus non-greedy make a difference?  What if you&#39;re looking for a\n",
        "# non-greedy match but the only one available is greedy?\n",
        "\n",
        "'''Ans: The Greedy Match will try to match as many repetitions of the quantified pattern as possible.\n",
        "The Non Greedy Match will try to match as few repetitions of the quantified pattern as possible.\n",
        "If only Non Greedy Match is available, we can use other filtering or pattern matching methods of regex and further identify the required pattern.'''"
      ],
      "metadata": {
        "id": "Y6HmJ7dstgP4"
      },
      "execution_count": null,
      "outputs": []
    },
    {
      "cell_type": "code",
      "source": [
        "# Q3. In a simple match of a string, which looks only for one match and does not do any replacement, is\n",
        "# the use of a nontagged group likely to make any practical difference?\n",
        "\n",
        "'''Ans: In this Case The Non Tagged Group will not make any diffrence in this case.'''\n",
        "\n",
        "import re\n",
        "phoneNumRegex = re.compile(r'\\d\\d\\d')\n",
        "num = phoneNumRegex.search('My number is 234-567-8901.')\n",
        "print(f'Phone number found -> {num.group()}') # Non Tagged group\n",
        "print(f'Phone number found -> {num.group(0)}') # Tagged Group"
      ],
      "metadata": {
        "colab": {
          "base_uri": "https://localhost:8080/"
        },
        "id": "i0XTkgMmtgTI",
        "outputId": "bfa7700f-cd3e-4290-d311-47b86c45068a"
      },
      "execution_count": 54,
      "outputs": [
        {
          "output_type": "stream",
          "name": "stdout",
          "text": [
            "Phone number found -> 234\n",
            "Phone number found -> 234\n"
          ]
        }
      ]
    },
    {
      "cell_type": "code",
      "source": [
        "# Q4. Describe a scenario in which using a nontagged category would have a significant impact on the\n",
        "# program's outcomes.\n",
        "\n",
        "'''Ans: Here in the below Code Snippet . decimal is not tagged or captured. It will useful in scenarios\n",
        "where the separator of value in a string is of no use and we need to capture only the values.'''\n",
        "\n",
        "import re\n",
        "text='135.456'\n",
        "pattern=r'(\\d+)(?:.)(\\d+)'\n",
        "regobj=re.compile(pattern)\n",
        "matobj=regobj.search(text)\n",
        "matobj.groups()"
      ],
      "metadata": {
        "colab": {
          "base_uri": "https://localhost:8080/"
        },
        "id": "izn7iFHDtgWT",
        "outputId": "01eb0874-dd7f-4561-e869-512cb63c4cdd"
      },
      "execution_count": 55,
      "outputs": [
        {
          "output_type": "execute_result",
          "data": {
            "text/plain": [
              "('135', '456')"
            ]
          },
          "metadata": {},
          "execution_count": 55
        }
      ]
    },
    {
      "cell_type": "code",
      "source": [
        "# Q5. Unlike a normal regex pattern, a look-ahead condition does not consume the characters it\n",
        "# examines. Describe a situation in which this could make a difference in the results of your\n",
        "# programme.\n",
        "\n",
        "'''Ans: While counting the number of multiple lines or mutiple sentence in a string the positive look \n",
        "ahead makes a difference, without which we wont get the correct count of lines or sentences in a string.'''"
      ],
      "metadata": {
        "id": "hNOGV-c5tgZB"
      },
      "execution_count": null,
      "outputs": []
    },
    {
      "cell_type": "code",
      "source": [
        "# Q6. In standard expressions, what is the difference between positive look-ahead and negative look-ahead ?\n",
        "\n",
        "'''Ans: Positive Lookahead allows to add a condition for what follows. Negative Lookahead is similar, \n",
        "but it looks behind. That is, it allows to match a pattern only if there’s something before it.'''"
      ],
      "metadata": {
        "id": "C19PYJ9ru1rl"
      },
      "execution_count": null,
      "outputs": []
    },
    {
      "cell_type": "code",
      "source": [
        "# Q7. What is the benefit of referring to groups by name rather than by number in a standard expression?\n",
        "\n",
        "'''Ans: Referring to groups by name rather than by number in a standard expression helps to keep the code clear and easy to understand.'''"
      ],
      "metadata": {
        "id": "vE-U0hEKu1oq"
      },
      "execution_count": null,
      "outputs": []
    },
    {
      "cell_type": "code",
      "source": [
        "# Q8. Can you identify repeated items within a target string using named groups,\n",
        "#  as in \"The cow jumped over the moon\"?\n",
        "\n",
        "import re\n",
        "text = \"The cow jumped over the moon\"\n",
        "regobj=re.compile(r'(?P<w1>The)',re.I)\n",
        "regobj.findall(text)"
      ],
      "metadata": {
        "colab": {
          "base_uri": "https://localhost:8080/"
        },
        "id": "-8Vg3y2Iu1lH",
        "outputId": "4dfd6981-5e10-44d7-f3d3-084f1a1afe74"
      },
      "execution_count": 56,
      "outputs": [
        {
          "output_type": "execute_result",
          "data": {
            "text/plain": [
              "['The', 'the']"
            ]
          },
          "metadata": {},
          "execution_count": 56
        }
      ]
    },
    {
      "cell_type": "code",
      "source": [
        "# Q9. When parsing a string, what is at least one thing that the Scanner interface does for you that the\n",
        "# re.findall feature does not?\n",
        "\n",
        "'''Ans: re.findall() module is used to search for all occurrences that match a given pattern.\n",
        "In contrast, re.search() will only return the first occurrence that matches the specified pattern. \n",
        "re.findall() will iterate over all the lines of the file and will return all non-overlapping matches of pattern in a single step."
      ],
      "metadata": {
        "id": "vas_atuRvN9E"
      },
      "execution_count": null,
      "outputs": []
    },
    {
      "cell_type": "code",
      "source": [
        "# Q10. Does a scanner object have to be named scanner?\n",
        "'''Ans: Yes, It may have any name."
      ],
      "metadata": {
        "id": "a0KaIoACvN4Z"
      },
      "execution_count": null,
      "outputs": []
    }
  ]
}