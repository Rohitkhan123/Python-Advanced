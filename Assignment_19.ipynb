{
  "nbformat": 4,
  "nbformat_minor": 0,
  "metadata": {
    "colab": {
      "provenance": []
    },
    "kernelspec": {
      "name": "python3",
      "display_name": "Python 3"
    },
    "language_info": {
      "name": "python"
    }
  },
  "cells": [
    {
      "cell_type": "code",
      "source": [
        "# Q1. Define the relationship between a class and its instances. Is it a one-to-one or a one-to-many\n",
        "# partnership, for example?\n",
        "\n",
        "'''Ans: Relationship between a class and its instances is a one to many partnership.'''"
      ],
      "metadata": {
        "id": "ukjhNnWVRrGb"
      },
      "execution_count": null,
      "outputs": []
    },
    {
      "cell_type": "code",
      "source": [
        "# Q2. What kind of data is held only in an instance?\n",
        "\n",
        "'''Ans: Instance objects contains the Instance variables which are specific to that specific Instance object.'''"
      ],
      "metadata": {
        "id": "-i5-8cinRrLz"
      },
      "execution_count": null,
      "outputs": []
    },
    {
      "cell_type": "code",
      "source": [
        "# Q3. What kind of knowledge is stored in a class?\n",
        "\n",
        "'''Ans: Class creates a user-defined data structure, which holds its own data members and member \n",
        "functions, which can be accessed and used by creating an instance of that class. \n",
        "A class is like a blueprint for an object.'''"
      ],
      "metadata": {
        "id": "boCU8pLLRrPM"
      },
      "execution_count": null,
      "outputs": []
    },
    {
      "cell_type": "code",
      "source": [
        "# Q4. What exactly is a method, and how is it different from a regular function?\n",
        "\n",
        "'''Ans: The methods with a class can be used to access the insatnce variables of its instance. \n",
        "So,the object's state can be modified by its method. Function can't access the attributes of an \n",
        "instance of a class or can't modify the state of the object.'''"
      ],
      "metadata": {
        "id": "tSWwLTW8RrSl"
      },
      "execution_count": null,
      "outputs": []
    },
    {
      "cell_type": "code",
      "source": [
        "# Q5. Is inheritance supported in Python, and if so, what is the syntax?\n",
        "\n",
        "'''Ans: Yes,Python supports inheritance. The Types of Inheritence Supported by Python are:\n",
        "\n",
        "1.Simple Inheritence\n",
        "2.Multiple Inheritence\n",
        "3.Multilevel lInheritence\n",
        "4.Hybrid Inheritence\n",
        "5.Hixerracial Inheritence'''\n",
        "\n",
        "class Person:\n",
        "    def __init__(self, fname, lname):\n",
        "        self.first_name = fname\n",
        "        self.last_name = lname\n",
        "class Student(Person):\n",
        "    pass"
      ],
      "metadata": {
        "id": "7rwWFUPtSrla"
      },
      "execution_count": 1,
      "outputs": []
    },
    {
      "cell_type": "code",
      "source": [
        "# Q6. How much encapsulation (making instance or class variables private) does Python support?\n",
        "\n",
        "'''Ans: Encapsulation describes the idea of wrapping data and the methods that work on data within one \n",
        "unit. This puts restrictions on accessing variables and methods directly and can prevent the \n",
        "accidental modification of data. To prevent accidental change, an objects variable can only be changed by an objects method.'''\n"
      ],
      "metadata": {
        "id": "p5G1TDPmSrgU"
      },
      "execution_count": null,
      "outputs": []
    },
    {
      "cell_type": "code",
      "source": [
        "# Q7. How do you distinguish between a class variable and an instance variable?\n",
        "\n",
        "'''Ans: The Class Attribute is available to all the instance objects of that class.\n",
        "whereas Instance Attributes are accessible only to the object or Instance of that class.'''"
      ],
      "metadata": {
        "id": "jiMZeVUDSrbz"
      },
      "execution_count": null,
      "outputs": []
    },
    {
      "cell_type": "code",
      "source": [
        "# Q8. When, if ever, can self be included in a class&#39;s method definitions?\n",
        "\n",
        "'''Ans: Yes, self can included in class method definations to access the instance variables inside class methods.'''\n"
      ],
      "metadata": {
        "id": "2qjjVYD2Tj23"
      },
      "execution_count": null,
      "outputs": []
    },
    {
      "cell_type": "code",
      "source": [
        "# Q9. What is the difference between the _ _add_ _ and the _ _radd_ _ methods?\n",
        "\n",
        "'''Ans: Entering __radd__ Python will first try __add__(), and if that returns Not Implemented \n",
        "Python will check if the right-hand operand implements __radd__, and if it does, \n",
        "it will call __radd__() rather than raising a TypeError. '''"
      ],
      "metadata": {
        "id": "HJN1TiiVTjxk"
      },
      "execution_count": null,
      "outputs": []
    },
    {
      "cell_type": "code",
      "source": [
        "# Q10. When is it necessary to use a reflection method? When do you not need it, even though you\n",
        "# support the operation in question?\n",
        "\n",
        "'''Ans: Reflection method we often encounter the requirement that a method in the executing object, \n",
        "or a variable in the calling object, or a field of the object should be assigned, \n",
        "while the method name or field name can not be determined when encoding the code, \n",
        "and need to be input in the form of passing strings through parameters.'''\n"
      ],
      "metadata": {
        "id": "tB2EB5UiTjsb"
      },
      "execution_count": null,
      "outputs": []
    },
    {
      "cell_type": "code",
      "source": [
        "# Q11. What is the __iadd__ method called?\n",
        "\n",
        "'''Ans: __iadd__ method is called when we use implementation like a+=b which is a.__iadd__(b)'''\n"
      ],
      "metadata": {
        "id": "Rj4RwezPUM4D"
      },
      "execution_count": null,
      "outputs": []
    },
    {
      "cell_type": "code",
      "source": [
        "# Q12. Is the _ _init_ _ method inherited by subclasses? What do you do if you need to customize its\n",
        "# behavior within a subclass?\n",
        "\n",
        "'''Ans: Yes, __init__ method will be inherited by subclasses.\n",
        "if we want to customize its behaviour within a subclass we can use super() method.'''\n"
      ],
      "metadata": {
        "id": "PYS3MU55UM0k"
      },
      "execution_count": null,
      "outputs": []
    },
    {
      "cell_type": "code",
      "source": [],
      "metadata": {
        "id": "4C_fPeP_UMwZ"
      },
      "execution_count": null,
      "outputs": []
    }
  ]
}