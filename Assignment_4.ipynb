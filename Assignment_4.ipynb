{
  "nbformat": 4,
  "nbformat_minor": 0,
  "metadata": {
    "colab": {
      "provenance": []
    },
    "kernelspec": {
      "name": "python3",
      "display_name": "Python 3"
    },
    "language_info": {
      "name": "python"
    }
  },
  "cells": [
    {
      "cell_type": "code",
      "source": [
        "# Q1. Which two operator overloading methods can you use in your classes to support iteration?\n",
        "\n",
        "'''Ans: __iter__ and __next__ are the operator overloading methods in python that support iteration and are collectively called iterator protocol.\n",
        "\n",
        ":-  __iter__ returns the iterator object and is called at the start of loop in our respective class.\n",
        ":-  __next__ is called at each loop increment, it returns the incremented value. Also Stopiteration is raised when there is no value to return.'''\n",
        "\n",
        "class Counter:\n",
        "    def __init__(self,low,high):\n",
        "        self.current = low\n",
        "        self.high = high\n",
        "    def __iter__(self):\n",
        "        return self\n",
        "    def __next__(self):\n",
        "        if self.current > self.high:\n",
        "            raise StopIteration\n",
        "        else:\n",
        "            self.current += 1\n",
        "            return self.current - 1\n",
        "for ele in Counter(5,15):\n",
        "    print(ele, end=\" \")"
      ],
      "metadata": {
        "colab": {
          "base_uri": "https://localhost:8080/"
        },
        "id": "ceYEOrX7BxqI",
        "outputId": "177fc941-314e-4015-9d69-e0d132f6c65f"
      },
      "execution_count": null,
      "outputs": [
        {
          "output_type": "stream",
          "name": "stdout",
          "text": [
            "5 6 7 8 9 10 11 12 13 14 15 "
          ]
        }
      ]
    },
    {
      "cell_type": "code",
      "source": [
        "# Q2. In what contexts do the two operator overloading methods manage printing?\n",
        "\n",
        "'''Ans: __str__ and __repr__ are two operator overloading methods that manage printing.\n",
        "\n",
        ":- In Short, the difference between both these operators is the goal of __repr__ is to be unambiguous and __str__ is to be readable.\n",
        ":- Whenever we are printing any object reference internally __str__ method will be called by default.\n",
        ":- The main purpose of __str__ is for readability. it prints the informal string representation of an object, one that is useful for printing the object. it may not be possible to convert result string to original object.\n",
        ":-__repr__ is used to print official string representation of an object, so it includes all information and development.'''\n",
        "\n",
        "\n",
        "class Student:\n",
        "    def __init__(self,name,roll_no):\n",
        "        self.name = name\n",
        "        self.roll_no = roll_no\n",
        "        \n",
        "s1 = Student(\"Mano\",1)\n",
        "print(str(s1))\n",
        "\n",
        "class Student:\n",
        "    def __init__(self,name,roll_no):\n",
        "        self.name = name\n",
        "        self.roll_no = roll_no\n",
        "    def __str__(self):\n",
        "        return f'Student Name: {self.name} and Roll No: {self.roll_no}'\n",
        "    \n",
        "s1 = Student(\"Mano\",1)\n",
        "print(str(s1))\n",
        "\n",
        "import datetime\n",
        "today = datetime.datetime.now()\n",
        "\n",
        "s = str(today) # converting datetime object to presentable str\n",
        "print(s)\n",
        "try: d = eval(s) # converting str back to datetime object\n",
        "except: print(\"Unable to convert back to original object\")\n",
        "    \n",
        "u = repr(today) # converting datetime object to str\n",
        "print(u)\n",
        "e = eval(u) # converting str back to datetime object\n",
        "print(e)"
      ],
      "metadata": {
        "colab": {
          "base_uri": "https://localhost:8080/"
        },
        "id": "PiT7Nf0nBxtF",
        "outputId": "aeacdc34-4416-4df3-b6ba-0af4176c5bdd"
      },
      "execution_count": null,
      "outputs": [
        {
          "output_type": "stream",
          "name": "stdout",
          "text": [
            "<__main__.Student object at 0x7fd3552ffe20>\n",
            "Student Name: Mano and Roll No: 1\n",
            "2023-05-31 04:29:22.853970\n",
            "Unable to convert back to original object\n",
            "datetime.datetime(2023, 5, 31, 4, 29, 22, 853970)\n",
            "2023-05-31 04:29:22.853970\n"
          ]
        }
      ]
    },
    {
      "cell_type": "code",
      "source": [
        "# Q3. In a class, how do you intercept slice operations?\n",
        "\n",
        "'''Ans: In a class use of slice() in __getitem__ method is used for intercept slice operation. This slice method is provided with start\n",
        "integer number, stop integer number and step integer number.\n",
        "\n",
        "Example: __getitem__(slice(start,stop,step))'''"
      ],
      "metadata": {
        "id": "BscCWI_FBxwb"
      },
      "execution_count": null,
      "outputs": []
    },
    {
      "cell_type": "code",
      "source": [
        "# Q4. In a class, how do you capture in-place addition?\n",
        "\n",
        "'''Ans: a+b is normal addition. Whereas a+=b is inplace addition operation. In this in-place addition a itself will store the value of addition. \n",
        "In a class __iadd__ method is used for this in-place operation'''\n",
        "\n",
        "class Book:\n",
        "    def __init__(self,pages):\n",
        "        self.pages = pages\n",
        "    def __iadd__(self,other):\n",
        "        self.pages += other.pages\n",
        "        return self.pages\n",
        "        \n",
        "b1 = Book(100)\n",
        "b2 = Book(200)\n",
        "b1+=b2\n",
        "print(b1)"
      ],
      "metadata": {
        "colab": {
          "base_uri": "https://localhost:8080/"
        },
        "id": "uwVPgwa_Fsj8",
        "outputId": "7e56d367-4b21-44cf-86a5-5c59b1bdcbf1"
      },
      "execution_count": 8,
      "outputs": [
        {
          "output_type": "stream",
          "name": "stdout",
          "text": [
            "300\n"
          ]
        }
      ]
    },
    {
      "cell_type": "code",
      "source": [
        "# Q5. When is it appropriate to use operator overloading?\n",
        "\n",
        "'''Ans: Operator overloading is used when we want to use an operator other than its normal operation to have different meaning \n",
        "according to the context required in user defined function. '''\n",
        "\n",
        "class Book:\n",
        "    def __init__(self,pages):\n",
        "        self.pages = pages\n",
        "    def __add__(self,other):\n",
        "        return self.pages+other.pages\n",
        "b1 = Book(100)\n",
        "b2 = Book(200)\n",
        "print(f'Total Number of Pages -> {b1+b2}')"
      ],
      "metadata": {
        "id": "IEnei9m4BxzQ",
        "colab": {
          "base_uri": "https://localhost:8080/"
        },
        "outputId": "069c297a-cef4-4a92-85c4-7d857e3ac0a2"
      },
      "execution_count": 9,
      "outputs": [
        {
          "output_type": "stream",
          "name": "stdout",
          "text": [
            "Total Number of Pages -> 300\n"
          ]
        }
      ]
    }
  ]
}