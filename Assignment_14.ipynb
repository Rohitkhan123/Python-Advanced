{
  "nbformat": 4,
  "nbformat_minor": 0,
  "metadata": {
    "colab": {
      "provenance": []
    },
    "kernelspec": {
      "name": "python3",
      "display_name": "Python 3"
    },
    "language_info": {
      "name": "python"
    }
  },
  "cells": [
    {
      "cell_type": "code",
      "source": [
        "# Q1. Is an assignment operator like += only for show? Is it possible that it would lead to faster results at the runtime ?\n",
        "\n",
        "'''Ans: A=A+1 evaluates to finding A, adding 1 to it. Then storing the value again in variable A. \n",
        "This expression makes Python to look for memory holder of a twice. But A+=1 simply means value of A is to incremented by 1.\n",
        "As memory address has to be identified once, += leads to faster operation.''''"
      ],
      "metadata": {
        "id": "pKZ6VEv8ge6b"
      },
      "execution_count": null,
      "outputs": []
    },
    {
      "cell_type": "code",
      "source": [
        "# Q2. What is the smallest no of statements you'd have to write in most programming languages \n",
        "# to replace the Python expr a, b = a + b, a ?\n",
        "\n",
        "'''Ans: Minimum number of lines required to write above code in languages other Python will be 4, \n",
        "two for assigning initial values for variables a and b, and two for reassignment i.e. a=a+b and b=a.'''"
      ],
      "metadata": {
        "id": "50lcRa4ege-2"
      },
      "execution_count": null,
      "outputs": []
    },
    {
      "cell_type": "code",
      "source": [
        "# Q3. In Python, what is the most effective way to set a list of 100 integers to 0?\n",
        "\n",
        "'''Ans: The Most effective way to set a list of 100 integers to 0 in python is by using repition operator(*) or by using list comprehension.'''\n",
        "\n",
        "# Method 1\n",
        "list_zero=[0]*100\n",
        "print(list_zero)\n",
        "# Method 2\n",
        "zero_list = [0 for x in range(100)]\n",
        "print(zero_list)"
      ],
      "metadata": {
        "colab": {
          "base_uri": "https://localhost:8080/"
        },
        "id": "G4zTQ_Z1gfBR",
        "outputId": "fa28df25-b027-477b-d51d-6bd9606323c6"
      },
      "execution_count": 41,
      "outputs": [
        {
          "output_type": "stream",
          "name": "stdout",
          "text": [
            "[0, 0, 0, 0, 0, 0, 0, 0, 0, 0, 0, 0, 0, 0, 0, 0, 0, 0, 0, 0, 0, 0, 0, 0, 0, 0, 0, 0, 0, 0, 0, 0, 0, 0, 0, 0, 0, 0, 0, 0, 0, 0, 0, 0, 0, 0, 0, 0, 0, 0, 0, 0, 0, 0, 0, 0, 0, 0, 0, 0, 0, 0, 0, 0, 0, 0, 0, 0, 0, 0, 0, 0, 0, 0, 0, 0, 0, 0, 0, 0, 0, 0, 0, 0, 0, 0, 0, 0, 0, 0, 0, 0, 0, 0, 0, 0, 0, 0, 0, 0]\n",
            "[0, 0, 0, 0, 0, 0, 0, 0, 0, 0, 0, 0, 0, 0, 0, 0, 0, 0, 0, 0, 0, 0, 0, 0, 0, 0, 0, 0, 0, 0, 0, 0, 0, 0, 0, 0, 0, 0, 0, 0, 0, 0, 0, 0, 0, 0, 0, 0, 0, 0, 0, 0, 0, 0, 0, 0, 0, 0, 0, 0, 0, 0, 0, 0, 0, 0, 0, 0, 0, 0, 0, 0, 0, 0, 0, 0, 0, 0, 0, 0, 0, 0, 0, 0, 0, 0, 0, 0, 0, 0, 0, 0, 0, 0, 0, 0, 0, 0, 0, 0]\n"
          ]
        }
      ]
    },
    {
      "cell_type": "code",
      "source": [
        "# Q4. What is the most effective way to initialise a list of 99 integers that repeats the \n",
        "# sequence 1, 2, 3? S If necessary, show step-by-step instructions on how to accomplish this.\n",
        "\n",
        "my_list = [1,2,3]*33\n",
        "print(my_list)"
      ],
      "metadata": {
        "colab": {
          "base_uri": "https://localhost:8080/"
        },
        "id": "951jJjLUgfD9",
        "outputId": "6badd6fc-a26c-4317-ba06-bd1fd94a7b37"
      },
      "execution_count": 44,
      "outputs": [
        {
          "output_type": "stream",
          "name": "stdout",
          "text": [
            "[1, 2, 3, 1, 2, 3, 1, 2, 3, 1, 2, 3, 1, 2, 3, 1, 2, 3, 1, 2, 3, 1, 2, 3, 1, 2, 3, 1, 2, 3, 1, 2, 3, 1, 2, 3, 1, 2, 3, 1, 2, 3, 1, 2, 3, 1, 2, 3, 1, 2, 3, 1, 2, 3, 1, 2, 3, 1, 2, 3, 1, 2, 3, 1, 2, 3, 1, 2, 3, 1, 2, 3, 1, 2, 3, 1, 2, 3, 1, 2, 3, 1, 2, 3, 1, 2, 3, 1, 2, 3, 1, 2, 3, 1, 2, 3, 1, 2, 3]\n"
          ]
        }
      ]
    },
    {
      "cell_type": "code",
      "source": [
        "# Q5. If you're using IDLE to run a Python application, explain how to print a multidimensional list as efficiently?\n",
        "\n",
        "my_list = [[1,1],[2,2],[3,3],[4,4],[5,5]] # 2 dimensional List\n",
        "for x in range(len(my_list)):\n",
        "    for y in range(len(my_list[x])):\n",
        "        print(my_list[x][y],end=\" \")"
      ],
      "metadata": {
        "colab": {
          "base_uri": "https://localhost:8080/"
        },
        "id": "hZu69Ac_hGiD",
        "outputId": "3cbe4ede-4616-468a-952f-5161baa404f8"
      },
      "execution_count": 45,
      "outputs": [
        {
          "output_type": "stream",
          "name": "stdout",
          "text": [
            "1 1 2 2 3 3 4 4 5 5 "
          ]
        }
      ]
    },
    {
      "cell_type": "code",
      "source": [
        "# Q6. Is it possible to use list comprehension with a string? If so, how can you go about doing it?\n",
        "\n",
        "'''Ans: List comprehension with string is possible.'''\n",
        "\n",
        "my_list = [ele for ele in 'iNeuron']\n",
        "print(my_list)"
      ],
      "metadata": {
        "colab": {
          "base_uri": "https://localhost:8080/"
        },
        "id": "vYPplpF-hepE",
        "outputId": "71b4e42c-dd12-4caa-d14b-32b1d32996a3"
      },
      "execution_count": 46,
      "outputs": [
        {
          "output_type": "stream",
          "name": "stdout",
          "text": [
            "['i', 'N', 'e', 'u', 'r', 'o', 'n']\n"
          ]
        }
      ]
    },
    {
      "cell_type": "code",
      "source": [
        "# Q7. From the command line, how do you get support with a user-written Python programme?\n",
        "#  Is this possible from inside IDLE?\n",
        "\n",
        "'''Ans: Get support with a user-written Python Programme: Start a command prompt (Windows) or terminal window (Linux/Mac).\n",
        "If the current working directory is the same as the location in which you saved the file, you can simply \n",
        "specify the filename as a command-line argument to the Python interpreter.\n",
        "\n",
        "Get support with a User-written Python Program from IDLE: You can also create script files and run them in IDLE.\n",
        "From the Shell window menu, select File → New File. That should open an additional editing window. Type in the code to be executed.\n",
        "From the menu in that window, select File → Save or File → Save As… and save the file to disk. Then select Run → Run Module.\n",
        "The output should appear back in the interpreter'''\n"
      ],
      "metadata": {
        "id": "5rgHgxCZhouQ"
      },
      "execution_count": null,
      "outputs": []
    },
    {
      "cell_type": "code",
      "source": [
        "# Q8. Functions are said to be “first-class objects” in Python but not in most other languages, such as C++ or Java. What can you do in Python with a function (callable object) that you can't do in C or C++?\n",
        "\n",
        "'''Ans: The tasks which can be performed with the functions in python are:\n",
        "\n",
        "- A function is an instance of the Object type.\n",
        "- You can store the function in a variable.\n",
        "- You can pass the function as a parameter to another function.\n",
        "- You can return the function from a function.\n",
        "- You can store them in data structures such as hash tables, lists,'''"
      ],
      "metadata": {
        "id": "DHU4aIFwhoqx"
      },
      "execution_count": null,
      "outputs": []
    },
    {
      "cell_type": "code",
      "source": [
        "# Q9. How do you distinguish between a wrapper, a wrapped feature, and a decorator?\n",
        "'''Ans: Wrappers Around the functions are known as Decrators.'''"
      ],
      "metadata": {
        "id": "kMwX4WdPhomS"
      },
      "execution_count": null,
      "outputs": []
    },
    {
      "cell_type": "code",
      "source": [
        "# Q10. If a function is a generator function, what does it return?\n",
        "\n",
        "'''Ans: Generator functions are a special kind of function that return a lazy iterator. \n",
        "These are objects that you can loop over like a list. \n",
        "However, unlike lists, lazy iterators do not store their contents in memory.'''"
      ],
      "metadata": {
        "id": "yPmKrH-Hib7b"
      },
      "execution_count": null,
      "outputs": []
    },
    {
      "cell_type": "code",
      "source": [
        "# Q11. What is the one improvement that must be made to a function in order for it to become a generator function in the Python language?\n",
        "\n",
        "'''Ans: Generator is a written as normal function but uses yield keyword to return values instead of \n",
        "return keyword.'''"
      ],
      "metadata": {
        "id": "ZBJRHJAHib4Y"
      },
      "execution_count": null,
      "outputs": []
    },
    {
      "cell_type": "code",
      "source": [
        "# Q12. Identify at least one benefit of generators.\n",
        "\n",
        "'''Ans: return statement sends a specified value back to its caller whereas yield statment can \n",
        "produce a sequence of values. We should use generator when we want to iterate over a sequence,\n",
        "but don't want to store the entire sequence in memory.'''"
      ],
      "metadata": {
        "id": "EUhSOhg5ibxQ"
      },
      "execution_count": null,
      "outputs": []
    },
    {
      "cell_type": "code",
      "source": [],
      "metadata": {
        "id": "PbTymk8Hibrn"
      },
      "execution_count": null,
      "outputs": []
    }
  ]
}