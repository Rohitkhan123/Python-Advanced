{
  "nbformat": 4,
  "nbformat_minor": 0,
  "metadata": {
    "colab": {
      "provenance": []
    },
    "kernelspec": {
      "name": "python3",
      "display_name": "Python 3"
    },
    "language_info": {
      "name": "python"
    }
  },
  "cells": [
    {
      "cell_type": "code",
      "source": [
        "# Q1. What is the purpose of the try statement?\n",
        "\n",
        "'''Ans: try statement is used for exception handling in python. it consists of a block of risky statements which might cause an exception during runtime. \n",
        "if code within try block raises exception, then the exception will be reverted to the corresponding except block if multiple except blocks are present, else it willbe reverted to the default except block.\n",
        "In short try and except in union avoid programs from crashing during runtime due to exceptions.'''\n",
        "\n",
        "\n",
        "try:\n",
        "    print(10/0)\n",
        "except ZeroDivisionError:\n",
        "    print('Division by Zero is Not Possible')"
      ],
      "metadata": {
        "colab": {
          "base_uri": "https://localhost:8080/"
        },
        "id": "953vTo_8KU31",
        "outputId": "e975e22a-1e39-428d-bf60-16a0262a91c7"
      },
      "execution_count": 17,
      "outputs": [
        {
          "output_type": "stream",
          "name": "stdout",
          "text": [
            "Division by Zero is Not Possible\n"
          ]
        }
      ]
    },
    {
      "cell_type": "code",
      "source": [
        "# Q2. What are the two most popular try statement variations?\n",
        "\n",
        "'''Ans: The Popular try statement variations are:\n",
        "\n",
        "1.try,except\n",
        "2.try,except,finally\n",
        "3.try,except,finally,else\n",
        "\n",
        "The try block is used to check code for exceptions during runtime. ie code inside try block will execute completely when there is no\n",
        "error in the program. Whereas the code inside except block will execute whenever the program encounters some error in the \n",
        "preceeding try block.\n",
        "\n",
        "Whereas the code enters the else block if and only if the try clause does not raise and exception.\n",
        "The code in the finally block will execute irrespective of exception.'''"
      ],
      "metadata": {
        "id": "DpABI10nKU6Z"
      },
      "execution_count": null,
      "outputs": []
    },
    {
      "cell_type": "code",
      "source": [
        "# Q3. What is the purpose of the raise statement?\n",
        "\n",
        "'''Ans: raise statement is used to trigger an exception explicitly,\n",
        "if a certain condition is not as per requirement of programmer.\n",
        "raise statement helps in triggering exception as per programming logic.'''"
      ],
      "metadata": {
        "id": "sYfGyBOcKU-T"
      },
      "execution_count": null,
      "outputs": []
    },
    {
      "cell_type": "code",
      "source": [
        "# Q4. What does the assert statement do, and what other statement is it like?\n",
        "\n",
        "'''Ans: There are few assertions that programmer always want to be true to avoid code failure.\n",
        "This type of requirement is fulfilled by assert statement. This statement takes a boolean condition output of which is True,\n",
        "Further Program Executes. if output of assert statement is False, it raises an Assertion Error.'''\n",
        "\n",
        "assert(2 == 4), f'this is not a valid statement'\n"
      ],
      "metadata": {
        "colab": {
          "base_uri": "https://localhost:8080/",
          "height": 200
        },
        "id": "BbV-kmT4KVCX",
        "outputId": "4b1204b8-511a-4138-ccf5-c64b5984720f"
      },
      "execution_count": 18,
      "outputs": [
        {
          "output_type": "error",
          "ename": "AssertionError",
          "evalue": "ignored",
          "traceback": [
            "\u001b[0;31m---------------------------------------------------------------------------\u001b[0m",
            "\u001b[0;31mAssertionError\u001b[0m                            Traceback (most recent call last)",
            "\u001b[0;32m<ipython-input-18-b8e04d7fdcb4>\u001b[0m in \u001b[0;36m<cell line: 7>\u001b[0;34m()\u001b[0m\n\u001b[1;32m      5\u001b[0m Further Program Executes. if output of assert statement is False, it raises an Assertion Error.'''\n\u001b[1;32m      6\u001b[0m \u001b[0;34m\u001b[0m\u001b[0m\n\u001b[0;32m----> 7\u001b[0;31m \u001b[0;32massert\u001b[0m\u001b[0;34m(\u001b[0m\u001b[0;36m2\u001b[0m \u001b[0;34m==\u001b[0m \u001b[0;36m4\u001b[0m\u001b[0;34m)\u001b[0m\u001b[0;34m,\u001b[0m \u001b[0;34mf'this is not a valid statement'\u001b[0m\u001b[0;34m\u001b[0m\u001b[0;34m\u001b[0m\u001b[0m\n\u001b[0m",
            "\u001b[0;31mAssertionError\u001b[0m: this is not a valid statement"
          ]
        }
      ]
    },
    {
      "cell_type": "code",
      "source": [
        "# Q5. What is the purpose of the with/as argument, and what other statement is it like?\n",
        "\n",
        "'''Ans: with/as statement simplifies use of file handling in python. When we use a with statement for file reading,\n",
        "there is no need for programmer to explicitly takecare of activities like resource deallocation and file closing by using file.close() method. with statement itself ensures proper acquisition and release of resources. this avoids triggering of exceptions if file closing is unknowingly forgotten in the code execution.\n",
        "\n",
        "with open('sample_file.txt','w') as file: file.write('Hello World')'''"
      ],
      "metadata": {
        "id": "15-lSvIYMBTm"
      },
      "execution_count": null,
      "outputs": []
    }
  ]
}