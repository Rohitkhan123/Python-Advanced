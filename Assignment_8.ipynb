{
  "nbformat": 4,
  "nbformat_minor": 0,
  "metadata": {
    "colab": {
      "provenance": []
    },
    "kernelspec": {
      "name": "python3",
      "display_name": "Python 3"
    },
    "language_info": {
      "name": "python"
    }
  },
  "cells": [
    {
      "cell_type": "code",
      "source": [
        "# Q1. What are the two latest user-defined exception constraints in Python 3.X?\n",
        "\n",
        "'''Ans: raise and assert are the two latest user-defined exception constraints in Python 3.X'''"
      ],
      "metadata": {
        "id": "N-H6CuLdM8ip"
      },
      "execution_count": null,
      "outputs": []
    },
    {
      "cell_type": "code",
      "source": [
        "# Q2. How are class-based exceptions that have been raised matched to handlers?\n",
        "\n",
        "'''Ans: In python, Users can define custom exceptions by creating a new class. This exception class has to be derived, either directly or indirectly from built-in Exception class.\n",
        "This new exception class like other exceptions can be raised using the raise statement with an optional error message.'''\n",
        "\n",
        "class ToYoungException(Exception):\n",
        "    def __init__(self,msg):\n",
        "        self.msg = msg\n",
        "age = 12\n",
        "if age <= 18: raise ToYoungException('To Young For Voting')"
      ],
      "metadata": {
        "colab": {
          "base_uri": "https://localhost:8080/",
          "height": 200
        },
        "id": "EEPEAy7uM8mk",
        "outputId": "88afb956-70d9-4cec-99e3-457432882f5e"
      },
      "execution_count": 19,
      "outputs": [
        {
          "output_type": "error",
          "ename": "ToYoungException",
          "evalue": "ignored",
          "traceback": [
            "\u001b[0;31m---------------------------------------------------------------------------\u001b[0m",
            "\u001b[0;31mToYoungException\u001b[0m                          Traceback (most recent call last)",
            "\u001b[0;32m<ipython-input-19-dad647842822>\u001b[0m in \u001b[0;36m<cell line: 10>\u001b[0;34m()\u001b[0m\n\u001b[1;32m      8\u001b[0m         \u001b[0mself\u001b[0m\u001b[0;34m.\u001b[0m\u001b[0mmsg\u001b[0m \u001b[0;34m=\u001b[0m \u001b[0mmsg\u001b[0m\u001b[0;34m\u001b[0m\u001b[0;34m\u001b[0m\u001b[0m\n\u001b[1;32m      9\u001b[0m \u001b[0mage\u001b[0m \u001b[0;34m=\u001b[0m \u001b[0;36m12\u001b[0m\u001b[0;34m\u001b[0m\u001b[0;34m\u001b[0m\u001b[0m\n\u001b[0;32m---> 10\u001b[0;31m \u001b[0;32mif\u001b[0m \u001b[0mage\u001b[0m \u001b[0;34m<=\u001b[0m \u001b[0;36m18\u001b[0m\u001b[0;34m:\u001b[0m \u001b[0;32mraise\u001b[0m \u001b[0mToYoungException\u001b[0m\u001b[0;34m(\u001b[0m\u001b[0;34m'To Young For Voting'\u001b[0m\u001b[0;34m)\u001b[0m\u001b[0;34m\u001b[0m\u001b[0;34m\u001b[0m\u001b[0m\n\u001b[0m",
            "\u001b[0;31mToYoungException\u001b[0m: To Young For Voting"
          ]
        }
      ]
    },
    {
      "cell_type": "code",
      "source": [
        "# Q3. Describe two methods for attaching context information to exception artefacts ?\n",
        "\n",
        "'''Ans: The process() method of LoggerAdapter is where the contextual information is added to the logging output.\n",
        "its passes the message and keyword arguments of the logging call, and it passes back modified versions of these to use in the call to the underlying logger.\n",
        "\n",
        "Other method that can be used is exception(), Logs a messgae with level ERROR on this logger. \n",
        "The arguments are interpreted as for debug(). Exception info is added to the logging message.'''"
      ],
      "metadata": {
        "id": "bMbR7JBTM8r0"
      },
      "execution_count": null,
      "outputs": []
    },
    {
      "cell_type": "code",
      "source": [
        "# Q4. Describe two methods for specifying the text of an exception object's error message ?\n",
        "\n",
        "'''Ans: raise and assert are two methods for specifying the text of an exception object's error message.\n",
        "raise statement is used to trigger explicit exception, if certain condition is not as per requirement of programmer. it helps in triggering exception as per need of programmer and logic.\n",
        "\n",
        "There are few assertions that programmer always want to be True to avoid code failure. This type of requirment is fullfilled by assert statement.\n",
        "This statement takes a Boolean Condition output of which if True, further program executes. if output of assert statement is False it raises an Assertion Error.'''\n"
      ],
      "metadata": {
        "id": "7WVB7d5DN5_D"
      },
      "execution_count": null,
      "outputs": []
    },
    {
      "cell_type": "code",
      "source": [
        "# Q5. Why do you no longer use string-based exceptions?\n",
        "\n",
        "'''Ans: String-based Exceptions doesn't inherit from Exceptions. so plain exceptions catch all exceptions and not only system.'''"
      ],
      "metadata": {
        "id": "24eBILNfM8uv"
      },
      "execution_count": null,
      "outputs": []
    }
  ]
}