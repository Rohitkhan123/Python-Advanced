{
  "nbformat": 4,
  "nbformat_minor": 0,
  "metadata": {
    "colab": {
      "provenance": []
    },
    "kernelspec": {
      "name": "python3",
      "display_name": "Python 3"
    },
    "language_info": {
      "name": "python"
    }
  },
  "cells": [
    {
      "cell_type": "code",
      "source": [
        "# 1. Compare and contrast the float and Decimal classes&#39; benefits and drawbacks.\n",
        "\n",
        "'''Ans: Both the float and decimal types store numerical values in Python.\n",
        "\n",
        "Use floats when convenience and speed matter. A float gives you an approximation of the number you declare.\n",
        "\n",
        "Use decimals when precision matters. Decimals can suffer from their own precision issues, \n",
        "but generally, decimals are more precise than floats. The performance difference between float and decimal, \n",
        "with Python 3, is not outlandish, and in my experience, the precision benefits of a decimal outweigh the performance benefits of a float."
      ],
      "metadata": {
        "id": "VbngkmPBVKqe"
      },
      "execution_count": null,
      "outputs": []
    },
    {
      "cell_type": "code",
      "source": [
        "# 2. Decimal('1.200') and Decimal('1.2') are two objects to consider. In what sense are these the same object?\n",
        "# Are these just two ways of representing the exact same value, \n",
        "# or do they correspond to different internal states ?\n",
        "\n",
        "'''Ans: Both values are same but internal representation at storage Is different. \n",
        "Precsion differs, Decimal('1.200') gives internally 1.200 and Decimal('1.2') gives 1.2.'''"
      ],
      "metadata": {
        "id": "tPNbSHUPVKuO"
      },
      "execution_count": null,
      "outputs": []
    },
    {
      "cell_type": "code",
      "source": [
        "# 3. What happens if the equality of Decimal('1.200') and Decimal('1.2') is checked ?\n",
        "\n",
        "'''Ans: Both values are checked to be equal , they only differ in precision.'''"
      ],
      "metadata": {
        "id": "tNsCmXSYVKxG"
      },
      "execution_count": null,
      "outputs": []
    },
    {
      "cell_type": "code",
      "source": [
        "# 4. Why is it preferable to start a Decimal object with a string rather than a floating-point value ?\n",
        "\n",
        "'''Ans: Floating-point value is converted to Decimal format. Decimal can store float value with absolute \n",
        "precision. But when float value is given as Decimal object,it first has to be converted from \n",
        "floating point value which might already have rounding error.\n",
        "\n",
        "Hence it is preferable to start a Decimal object with a string.'''"
      ],
      "metadata": {
        "id": "m77s19BqVK0O"
      },
      "execution_count": null,
      "outputs": []
    },
    {
      "cell_type": "code",
      "source": [
        "# 5. In an arithmetic phrase, how simple is it to combine Decimal objects with integers ?\n",
        "\n",
        "'''Ans: We can do it with use of Decimal().'''"
      ],
      "metadata": {
        "id": "Ol-wiOaZWYJ2"
      },
      "execution_count": null,
      "outputs": []
    },
    {
      "cell_type": "code",
      "source": [
        "# 6. Can Decimal objects and floating-point values be combined easily ?\n",
        "\n",
        "'''Ans: Arithmetic operfations like Adding,subtracting or multiplying a Decimal \n",
        "object by a floating-point value is generates an error.\n",
        "\n",
        "To do these operations, the floating point has to be converted to a Decimal.'''"
      ],
      "metadata": {
        "id": "z9cmt9_mWYFk"
      },
      "execution_count": null,
      "outputs": []
    },
    {
      "cell_type": "code",
      "source": [
        "# 7. Using the Fraction class but not the Decimal class, \n",
        "# give an example of a quantity that can be expressed with absolute precision ?\n",
        "\n",
        "'''Ans: Value of 0.5 will be represented as ½.'''"
      ],
      "metadata": {
        "id": "-urjESlPWpYN"
      },
      "execution_count": null,
      "outputs": []
    },
    {
      "cell_type": "code",
      "source": [
        "# 8.Consider the following two fraction objects: Fraction(1, 2) and Fraction(1, 2). (5, 10). \n",
        "# Is the internal state of these two objects the same? Why do you think that is ?\n",
        "\n",
        "'''Ans: Both will be reduced to 1/2'''"
      ],
      "metadata": {
        "id": "52QpTHKYWpTP"
      },
      "execution_count": null,
      "outputs": []
    },
    {
      "cell_type": "code",
      "source": [
        "# 9. How do the Fraction class and the integer type (int) relate to each other?\n",
        "# Containment or inheritance ?\n",
        "\n",
        "'''Ans: Fraction class and integer type(int) are related in form of a container.\n",
        "It contains two ints, one the numerator and the other the denominator'''"
      ],
      "metadata": {
        "id": "OxW2JOhEXEgT"
      },
      "execution_count": null,
      "outputs": []
    },
    {
      "cell_type": "code",
      "source": [],
      "metadata": {
        "id": "-puTdoJ3XEcC"
      },
      "execution_count": null,
      "outputs": []
    }
  ]
}