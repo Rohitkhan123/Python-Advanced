{
  "nbformat": 4,
  "nbformat_minor": 0,
  "metadata": {
    "colab": {
      "provenance": []
    },
    "kernelspec": {
      "name": "python3",
      "display_name": "Python 3"
    },
    "language_info": {
      "name": "python"
    }
  },
  "cells": [
    {
      "cell_type": "code",
      "source": [
        "# Q1. Describe the differences between text and binary files in a single paragraph.\n",
        "\n",
        "'''Ans: The differences between Text Files and Binary Files are:\n",
        "\n",
        "-- Text files are special subset of binary files that are used to store human readable characters as \n",
        "a rich text document or plain text document. Text files also store data in sequential bytes but bits\n",
        "in text file represents characters.\n",
        "\n",
        "-- Binary files are those typical files that store data in the form of sequence of bytes grouped \n",
        "into eight bits or sometimes sixteen bits. These bits represent custom data and such \n",
        "files can store multiple types of data (images, audio, text, etc) under a single file."
      ],
      "metadata": {
        "id": "JFxRk-rND1zE"
      },
      "execution_count": null,
      "outputs": []
    },
    {
      "cell_type": "code",
      "source": [
        "# Q2. What are some scenarios where using text files will be the better option? When would you like to\n",
        "# use binary files instead of text files?\n",
        "\n",
        "'''Ans: Text files are less prone to get corrupted as any undesired change may just show up once the file is opened and then can easily be removed.\n",
        "Whereas Use binary files instead of text files for image data.'''"
      ],
      "metadata": {
        "id": "_bFgy59tD13E"
      },
      "execution_count": null,
      "outputs": []
    },
    {
      "cell_type": "code",
      "source": [
        "# Q3. What are some of the issues with using binary operations to read and write a Python integer\n",
        "# directly to disc?\n",
        "\n",
        "'''Ans: When we read or write a python integer using binary operations\n",
        "\n",
        "1.Binary operations deal with raw data\n",
        "2.One needs to identify how many bytes one would read or write.'''"
      ],
      "metadata": {
        "id": "l593rvj2D158"
      },
      "execution_count": null,
      "outputs": []
    },
    {
      "cell_type": "code",
      "source": [
        "# Q4. Describe a benefit of using the with keyword instead of explicitly opening a file ?\n",
        "\n",
        "'''Ans: When a file is opened using the with keyword, if some exceptions occur after opening a file, \n",
        "or at the end of the file it automatically does the closing of the file. There by not leaving an \n",
        "file in open mode and there would no need to explicitly close a file.'''"
      ],
      "metadata": {
        "id": "6KBQoNv3D18s"
      },
      "execution_count": null,
      "outputs": []
    },
    {
      "cell_type": "code",
      "source": [
        "# Q5. Does Python have the trailing newline while reading a line of text? \n",
        "# Does Python append a newline when you write a line of text?\n",
        "\n",
        "'''Ans: Yes, Python have the trailing newline while reading a line of text. \n",
        "When we write a newline has to be provided in python excpicitly.'''\n"
      ],
      "metadata": {
        "id": "IsBk81PeE-eR"
      },
      "execution_count": null,
      "outputs": []
    },
    {
      "cell_type": "code",
      "source": [
        "# Q6. What file operations enable for random-access operation?\n",
        "\n",
        "'''Ans: The file operations enable for random-access operation are seek() and tell()\n",
        "\n"
      ],
      "metadata": {
        "id": "ErXtAXpVE-Yt"
      },
      "execution_count": null,
      "outputs": []
    },
    {
      "cell_type": "code",
      "source": [
        "# Q7. When do you think you'll use the struct package the most?\n",
        "\n",
        "'''Ans: The struct package is mostly used while converting a common python types into C language types.'''"
      ],
      "metadata": {
        "id": "wnvKurJdFsjt"
      },
      "execution_count": null,
      "outputs": []
    },
    {
      "cell_type": "code",
      "source": [
        "# Q8. When is pickling the best option?\n",
        "'''Ans: Pickling is best option for creating a new binary file using python."
      ],
      "metadata": {
        "id": "_PBlndeTFsf8"
      },
      "execution_count": null,
      "outputs": []
    },
    {
      "cell_type": "code",
      "source": [
        "# Q9. When will it be best to use the shelve package?\n",
        "\n",
        "'''Ans: Shelve package is used to pickle data but treats the entire file as dictionary.'''"
      ],
      "metadata": {
        "id": "ieEBAOEFFsaS"
      },
      "execution_count": null,
      "outputs": []
    },
    {
      "cell_type": "code",
      "source": [
        "# Q10. What is a special restriction when using the shelve package, \n",
        "# as opposed to using other data dictionaries?\n",
        "\n",
        "'''Ans: Only string data type can be used as key in this special dictionary object, \n",
        "whereas any picklable Python object can be used as value.'''"
      ],
      "metadata": {
        "id": "bRTJtebvGHRC"
      },
      "execution_count": null,
      "outputs": []
    }
  ]
}